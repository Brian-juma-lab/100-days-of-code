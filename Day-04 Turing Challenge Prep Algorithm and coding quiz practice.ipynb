{
 "cells": [
  {
   "cell_type": "markdown",
   "id": "c03838c3",
   "metadata": {},
   "source": [
    "# Problem 1: Two Sum (Hashmap)"
   ]
  },
  {
   "cell_type": "code",
   "execution_count": 2,
   "id": "ff005b2a",
   "metadata": {},
   "outputs": [],
   "source": [
    "def two_sum(nums, target):\n",
    "    hashmap = {} \n",
    "    for i, num in enumerate(nums):\n",
    "        diff = target-num\n",
    "        if diff in hashmap:\n",
    "            return[hashmap[diff],i]\n",
    "        hashmap[num]=i"
   ]
  },
  {
   "cell_type": "code",
   "execution_count": 3,
   "id": "a75acf77",
   "metadata": {},
   "outputs": [
    {
     "name": "stdout",
     "output_type": "stream",
     "text": [
      "Enter numbers separated by spaces: 2 7 9 13 17 23\n",
      "Enter target sum: 30\n",
      "Indices of numbers that add up to target: [3, 4]\n"
     ]
    }
   ],
   "source": [
    "nums = list(map(int, input(\"Enter numbers separated by spaces: \").split()))\n",
    "target = int(input(\"Enter target sum: \"))\n",
    "result = two_sum(nums, target)\n",
    "print(\"Indices of numbers that add up to target:\", result)"
   ]
  },
  {
   "cell_type": "markdown",
   "id": "0f8e48c3",
   "metadata": {},
   "source": [
    "# Problem 2: Longest Substring Without Repeating Characters\n"
   ]
  },
  {
   "cell_type": "code",
   "execution_count": 5,
   "id": "6f2eebc2",
   "metadata": {},
   "outputs": [],
   "source": [
    "def length_of_longest_substring(s):\n",
    "    char_set = set()\n",
    "    l = 0\n",
    "    max_len = 0\n",
    "\n",
    "    for r in range(len(s)):\n",
    "        while s[r] in char_set:\n",
    "            char_set.remove(s[l])\n",
    "            l += 1\n",
    "        char_set.add(s[r])\n",
    "        max_len = max(max_len, r - l + 1)\n",
    "    \n",
    "    return max_len\n"
   ]
  },
  {
   "cell_type": "code",
   "execution_count": 6,
   "id": "ec30bbbb",
   "metadata": {},
   "outputs": [
    {
     "name": "stdout",
     "output_type": "stream",
     "text": [
      "Enter a string: madam\n",
      "Length of longest substring without repeating characters: 3\n"
     ]
    }
   ],
   "source": [
    "s = input(\"Enter a string: \")\n",
    "result = length_of_longest_substring(s)\n",
    "print(\"Length of longest substring without repeating characters:\", result)\n"
   ]
  },
  {
   "cell_type": "code",
   "execution_count": 10,
   "id": "1e3325d3",
   "metadata": {},
   "outputs": [],
   "source": [
    "def is_anagram(s,t):\n",
    "    if len(s) != len(t):\n",
    "        return False\n",
    "    count_s,count_t={},{}\n",
    "    for i in range(len(s)):\n",
    "        count_s[s[i]] = count_s.get(s[i],0)+1\n",
    "        count_t[t[i]]=count_t.get(t[i],0)+1\n",
    "    return count_s==count_t"
   ]
  },
  {
   "cell_type": "code",
   "execution_count": 11,
   "id": "a9b2dd74",
   "metadata": {},
   "outputs": [
    {
     "name": "stdout",
     "output_type": "stream",
     "text": [
      "Enter first string: silent\n",
      "Enter second string: listen\n",
      "Are the two strings anagrams? True\n"
     ]
    }
   ],
   "source": [
    "s = input(\"Enter first string: \")\n",
    "t = input(\"Enter second string: \")\n",
    "result = is_anagram(s, t)\n",
    "print(\"Are the two strings anagrams?\", result)"
   ]
  },
  {
   "cell_type": "code",
   "execution_count": null,
   "id": "bca42c1d",
   "metadata": {},
   "outputs": [],
   "source": []
  }
 ],
 "metadata": {
  "kernelspec": {
   "display_name": "Python 3 (ipykernel)",
   "language": "python",
   "name": "python3"
  },
  "language_info": {
   "codemirror_mode": {
    "name": "ipython",
    "version": 3
   },
   "file_extension": ".py",
   "mimetype": "text/x-python",
   "name": "python",
   "nbconvert_exporter": "python",
   "pygments_lexer": "ipython3",
   "version": "3.11.5"
  }
 },
 "nbformat": 4,
 "nbformat_minor": 5
}
